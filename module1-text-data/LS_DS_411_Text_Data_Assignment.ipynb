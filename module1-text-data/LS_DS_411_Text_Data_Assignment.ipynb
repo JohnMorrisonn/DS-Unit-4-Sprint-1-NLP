{
 "cells": [
  {
   "cell_type": "markdown",
   "metadata": {},
   "source": [
    "<img align=\"left\" src=\"https://lever-client-logos.s3.amazonaws.com/864372b1-534c-480e-acd5-9711f850815c-1524247202159.png\" width=200>\n",
    "<br></br>\n",
    "<br></br>\n",
    "\n",
    "# Natural Language Processing (NLP)\n",
    "## *Data Science Unit 4 Sprint 1 Assignment 1*\n",
    "\n",
    "Your goal in assignment: find the attributes of the best & worst coffee shops in the dataset. The text is fairly raw: dates in the review, extra words in the `star_rating` column, etc. You'll probably want to clean that stuff up for a better analysis. \n",
    "\n",
    "Analyze the corpus of text using text visualizations of token frequency. Try cleaning the data as much as possible. Try the following techniques: \n",
    "- Lemmatization\n",
    "- Custom stopword removal\n",
    "\n",
    "Keep in mind the attributes of good tokens. Once you have a solid baseline, layer in the star rating in your visualization(s). Keep part in this assignment - produce a write-up of the attributes of the best and worst coffee shops. Based on your analysis, what makes the best the best and the worst the worst. Use graphs and numbesr from your analysis to support your conclusions. There should be plenty of markdown cells! :coffee:"
   ]
  },
  {
   "cell_type": "code",
   "execution_count": 1,
   "metadata": {},
   "outputs": [
    {
     "data": {
      "image/jpeg": "[encoded data removed]",
      "text/html": [
       "\n",
       "        <iframe\n",
       "            width=\"400\"\n",
       "            height=\"300\"\n",
       "            src=\"https://www.youtube.com/embed/Jml7NVYm8cs\"\n",
       "            frameborder=\"0\"\n",
       "            allowfullscreen\n",
       "        ></iframe>\n",
       "        "
      ],
      "text/plain": [
       "<IPython.lib.display.YouTubeVideo at 0x2149978d7b8>"
      ]
     },
     "execution_count": 1,
     "metadata": {},
     "output_type": "execute_result"
    }
   ],
   "source": [
    "from IPython.display import YouTubeVideo\n",
    "\n",
    "YouTubeVideo('Jml7NVYm8cs')"
   ]
  },
  {
   "cell_type": "code",
   "execution_count": 2,
   "metadata": {},
   "outputs": [
    {
     "data": {
      "text/plain": [
       "'C:\\\\Users\\\\John\\\\Lambda\\\\Unit_4\\\\DS-Unit-4-Sprint-1-NLP\\\\module1-text-data'"
      ]
     },
     "execution_count": 2,
     "metadata": {},
     "output_type": "execute_result"
    }
   ],
   "source": [
    "# Command for full current path\n",
    "%pwd"
   ]
  },
  {
   "cell_type": "code",
   "execution_count": 1,
   "metadata": {},
   "outputs": [
    {
     "data": {
      "text/html": [
       "<div>\n",
       "<style scoped>\n",
       "    .dataframe tbody tr th:only-of-type {\n",
       "        vertical-align: middle;\n",
       "    }\n",
       "\n",
       "    .dataframe tbody tr th {\n",
       "        vertical-align: top;\n",
       "    }\n",
       "\n",
       "    .dataframe thead th {\n",
       "        text-align: right;\n",
       "    }\n",
       "</style>\n",
       "<table border=\"1\" class=\"dataframe\">\n",
       "  <thead>\n",
       "    <tr style=\"text-align: right;\">\n",
       "      <th></th>\n",
       "      <th>coffee_shop_name</th>\n",
       "      <th>full_review_text</th>\n",
       "      <th>star_rating</th>\n",
       "    </tr>\n",
       "  </thead>\n",
       "  <tbody>\n",
       "    <tr>\n",
       "      <th>0</th>\n",
       "      <td>The Factory - Cafe With a Soul</td>\n",
       "      <td>11/25/2016 1 check-in Love love loved the atm...</td>\n",
       "      <td>5.0 star rating</td>\n",
       "    </tr>\n",
       "    <tr>\n",
       "      <th>1</th>\n",
       "      <td>The Factory - Cafe With a Soul</td>\n",
       "      <td>12/2/2016 Listed in Date Night: Austin, Ambia...</td>\n",
       "      <td>4.0 star rating</td>\n",
       "    </tr>\n",
       "    <tr>\n",
       "      <th>2</th>\n",
       "      <td>The Factory - Cafe With a Soul</td>\n",
       "      <td>11/30/2016 1 check-in Listed in Brunch Spots ...</td>\n",
       "      <td>4.0 star rating</td>\n",
       "    </tr>\n",
       "    <tr>\n",
       "      <th>3</th>\n",
       "      <td>The Factory - Cafe With a Soul</td>\n",
       "      <td>11/25/2016 Very cool decor! Good drinks Nice ...</td>\n",
       "      <td>2.0 star rating</td>\n",
       "    </tr>\n",
       "    <tr>\n",
       "      <th>4</th>\n",
       "      <td>The Factory - Cafe With a Soul</td>\n",
       "      <td>12/3/2016 1 check-in They are located within ...</td>\n",
       "      <td>4.0 star rating</td>\n",
       "    </tr>\n",
       "  </tbody>\n",
       "</table>\n",
       "</div>"
      ],
      "text/plain": [
       "                  coffee_shop_name  \\\n",
       "0  The Factory - Cafe With a Soul    \n",
       "1  The Factory - Cafe With a Soul    \n",
       "2  The Factory - Cafe With a Soul    \n",
       "3  The Factory - Cafe With a Soul    \n",
       "4  The Factory - Cafe With a Soul    \n",
       "\n",
       "                                    full_review_text        star_rating  \n",
       "0   11/25/2016 1 check-in Love love loved the atm...   5.0 star rating   \n",
       "1   12/2/2016 Listed in Date Night: Austin, Ambia...   4.0 star rating   \n",
       "2   11/30/2016 1 check-in Listed in Brunch Spots ...   4.0 star rating   \n",
       "3   11/25/2016 Very cool decor! Good drinks Nice ...   2.0 star rating   \n",
       "4   12/3/2016 1 check-in They are located within ...   4.0 star rating   "
      ]
     },
     "execution_count": 1,
     "metadata": {},
     "output_type": "execute_result"
    }
   ],
   "source": [
    "import pandas as pd\n",
    "import re\n",
    "import spacy\n",
    "from spacy.tokenizer import Tokenizer\n",
    "from collections import Counter\n",
    "import seaborn as sns\n",
    "\n",
    "url = \"https://raw.githubusercontent.com/LambdaSchool/DS-Unit-4-Sprint-1-NLP/master/module1-text-data/data/yelp_coffeeshop_review_data.csv\"\n",
    "\n",
    "shops = pd.read_csv(url)\n",
    "shops.head()"
   ]
  },
  {
   "cell_type": "code",
   "execution_count": 2,
   "metadata": {},
   "outputs": [],
   "source": [
    "nlp = spacy.load(\"en_core_web_lg\")\n",
    "\n",
    "# Tokenizer\n",
    "tokenizer = Tokenizer(nlp.vocab)"
   ]
  },
  {
   "cell_type": "code",
   "execution_count": 59,
   "metadata": {},
   "outputs": [
    {
     "data": {
      "text/html": [
       "<div>\n",
       "<style scoped>\n",
       "    .dataframe tbody tr th:only-of-type {\n",
       "        vertical-align: middle;\n",
       "    }\n",
       "\n",
       "    .dataframe tbody tr th {\n",
       "        vertical-align: top;\n",
       "    }\n",
       "\n",
       "    .dataframe thead th {\n",
       "        text-align: right;\n",
       "    }\n",
       "</style>\n",
       "<table border=\"1\" class=\"dataframe\">\n",
       "  <thead>\n",
       "    <tr style=\"text-align: right;\">\n",
       "      <th></th>\n",
       "      <th>coffee_shop_name</th>\n",
       "      <th>full_review_text</th>\n",
       "      <th>star_rating</th>\n",
       "      <th>date</th>\n",
       "      <th>checkins</th>\n",
       "      <th>full_review_text_clean</th>\n",
       "      <th>tokens</th>\n",
       "    </tr>\n",
       "  </thead>\n",
       "  <tbody>\n",
       "    <tr>\n",
       "      <th>0</th>\n",
       "      <td>The Factory - Cafe With a Soul</td>\n",
       "      <td>1 check-in Love love loved the atmosphere! E...</td>\n",
       "      <td>5.0</td>\n",
       "      <td>2016-11-25</td>\n",
       "      <td>1 check-in</td>\n",
       "      <td>Love love loved the atmosphere Every corner...</td>\n",
       "      <td>[love, love, loved, atmosphere, corner, shop, ...</td>\n",
       "    </tr>\n",
       "    <tr>\n",
       "      <th>1</th>\n",
       "      <td>The Factory - Cafe With a Soul</td>\n",
       "      <td>Listed in Date Night: Austin, Ambiance in Au...</td>\n",
       "      <td>4.0</td>\n",
       "      <td>2016-12-02</td>\n",
       "      <td>0</td>\n",
       "      <td>Listed in Date Night Austin Ambiance in Aust...</td>\n",
       "      <td>[listed, date, night, austin, ambiance, austin...</td>\n",
       "    </tr>\n",
       "    <tr>\n",
       "      <th>2</th>\n",
       "      <td>The Factory - Cafe With a Soul</td>\n",
       "      <td>1 check-in Listed in Brunch Spots I loved th...</td>\n",
       "      <td>4.0</td>\n",
       "      <td>2016-11-30</td>\n",
       "      <td>1 check-in</td>\n",
       "      <td>Listed in Brunch Spots I loved the eclectic...</td>\n",
       "      <td>[listed, brunch, spots, loved, eclectic, homey...</td>\n",
       "    </tr>\n",
       "    <tr>\n",
       "      <th>3</th>\n",
       "      <td>The Factory - Cafe With a Soul</td>\n",
       "      <td>Very cool decor! Good drinks Nice seating  H...</td>\n",
       "      <td>2.0</td>\n",
       "      <td>2016-11-25</td>\n",
       "      <td>0</td>\n",
       "      <td>Very cool decor Good drinks Nice seating  Ho...</td>\n",
       "      <td>[cool, decor, drinks, nice, seating, overprice...</td>\n",
       "    </tr>\n",
       "    <tr>\n",
       "      <th>4</th>\n",
       "      <td>The Factory - Cafe With a Soul</td>\n",
       "      <td>1 check-in They are located within the North...</td>\n",
       "      <td>4.0</td>\n",
       "      <td>2016-12-03</td>\n",
       "      <td>1 check-in</td>\n",
       "      <td>They are located within the Northcross mall...</td>\n",
       "      <td>[located, northcross, mall, shopping, center, ...</td>\n",
       "    </tr>\n",
       "  </tbody>\n",
       "</table>\n",
       "</div>"
      ],
      "text/plain": [
       "                  coffee_shop_name  \\\n",
       "0  The Factory - Cafe With a Soul    \n",
       "1  The Factory - Cafe With a Soul    \n",
       "2  The Factory - Cafe With a Soul    \n",
       "3  The Factory - Cafe With a Soul    \n",
       "4  The Factory - Cafe With a Soul    \n",
       "\n",
       "                                    full_review_text  star_rating       date  \\\n",
       "0    1 check-in Love love loved the atmosphere! E...          5.0 2016-11-25   \n",
       "1    Listed in Date Night: Austin, Ambiance in Au...          4.0 2016-12-02   \n",
       "2    1 check-in Listed in Brunch Spots I loved th...          4.0 2016-11-30   \n",
       "3    Very cool decor! Good drinks Nice seating  H...          2.0 2016-11-25   \n",
       "4    1 check-in They are located within the North...          4.0 2016-12-03   \n",
       "\n",
       "     checkins                             full_review_text_clean  \\\n",
       "0  1 check-in     Love love loved the atmosphere Every corner...   \n",
       "1           0    Listed in Date Night Austin Ambiance in Aust...   \n",
       "2  1 check-in     Listed in Brunch Spots I loved the eclectic...   \n",
       "3           0    Very cool decor Good drinks Nice seating  Ho...   \n",
       "4  1 check-in     They are located within the Northcross mall...   \n",
       "\n",
       "                                              tokens  \n",
       "0  [love, love, loved, atmosphere, corner, shop, ...  \n",
       "1  [listed, date, night, austin, ambiance, austin...  \n",
       "2  [listed, brunch, spots, loved, eclectic, homey...  \n",
       "3  [cool, decor, drinks, nice, seating, overprice...  \n",
       "4  [located, northcross, mall, shopping, center, ...  "
      ]
     },
     "execution_count": 59,
     "metadata": {},
     "output_type": "execute_result"
    }
   ],
   "source": [
    "shops = pd.read_csv(url)\n",
    "\n",
    "def wrangle(df):\n",
    "    \n",
    "    \n",
    "    import re\n",
    "    \n",
    "    #Star rating to float\n",
    "    df['star_rating'] = df['star_rating'].str.replace(' star rating', '').astype(float)\n",
    "    \n",
    "    #Take out dates and datetime them\n",
    "    df['date'] = df['full_review_text'].str.extract(r\"(\\d{1,2}[/. ](?:\\d{1,2}|January|Jan)[/. ]\\d{2}(?:\\d{2})?)\")\n",
    "    df['date'] = pd.to_datetime(df['date'])\n",
    "    df['full_review_text'] = df['full_review_text'].str.replace('(\\d{1,2}[/. ](?:\\d{1,2}|January|Jan)[/. ]\\d{2}(?:\\d{2})?)', '')\n",
    "    \n",
    "    df['checkins'] = df['full_review_text'].str.extract(r\"(\\d{1,3}\\s\\D{5}-\\w\\w)\")\n",
    "    df['checkins'].fillna(value=0, inplace=True)\n",
    "    \n",
    "    df['full_review_text_clean'] = df['full_review_text'].str.replace(\"(\\d{1,3}\\s\\D{5}-\\w\\w)\", '')\n",
    "    \n",
    "    df['full_review_text_clean'] = df['full_review_text_clean'].apply(lambda x: re.sub(r'[^a-zA-Z ^0-9]', '', x))\n",
    "    \n",
    "    STOP_WORDS = nlp.Defaults.stop_words.union(['I', 'i', 'coffee', 'it', \"it's\", 'it.', 'the', 'this', 'good', 'like'])\n",
    "    \n",
    "    tokens = []\n",
    "\n",
    "    for doc in tokenizer.pipe(df['full_review_text_clean'], batch_size=500):\n",
    "\n",
    "        doc_tokens = []\n",
    "\n",
    "        for token in doc: \n",
    "            if (token.text.lower() not in STOP_WORDS) & (token.is_punct == False) & (token.is_space == False):\n",
    "                doc_tokens.append(token.text.lower())\n",
    "\n",
    "        tokens.append(doc_tokens)\n",
    "\n",
    "    df['tokens'] = tokens\n",
    "\n",
    "    \n",
    "    \n",
    "    return df\n",
    "\n",
    "shops = wrangle(shops)\n",
    "shops.head()"
   ]
  },
  {
   "cell_type": "code",
   "execution_count": 106,
   "metadata": {
    "collapsed": true,
    "jupyter": {
     "outputs_hidden": true
    }
   },
   "outputs": [
    {
     "data": {
      "text/html": [
       "<div>\n",
       "<style scoped>\n",
       "    .dataframe tbody tr th:only-of-type {\n",
       "        vertical-align: middle;\n",
       "    }\n",
       "\n",
       "    .dataframe tbody tr th {\n",
       "        vertical-align: top;\n",
       "    }\n",
       "\n",
       "    .dataframe thead th {\n",
       "        text-align: right;\n",
       "    }\n",
       "</style>\n",
       "<table border=\"1\" class=\"dataframe\">\n",
       "  <thead>\n",
       "    <tr style=\"text-align: right;\">\n",
       "      <th></th>\n",
       "      <th>star_rating</th>\n",
       "    </tr>\n",
       "    <tr>\n",
       "      <th>coffee_shop_name</th>\n",
       "      <th></th>\n",
       "    </tr>\n",
       "  </thead>\n",
       "  <tbody>\n",
       "    <tr>\n",
       "      <th>Alta’s Cafe</th>\n",
       "      <td>3.930000</td>\n",
       "    </tr>\n",
       "    <tr>\n",
       "      <th>Anderson’s Coffee Company</th>\n",
       "      <td>4.620000</td>\n",
       "    </tr>\n",
       "    <tr>\n",
       "      <th>Apanas Coffee &amp; Beer</th>\n",
       "      <td>4.580882</td>\n",
       "    </tr>\n",
       "    <tr>\n",
       "      <th>Arturo’s Underground Cafe</th>\n",
       "      <td>4.300000</td>\n",
       "    </tr>\n",
       "    <tr>\n",
       "      <th>Bennu Coffee</th>\n",
       "      <td>4.130000</td>\n",
       "    </tr>\n",
       "    <tr>\n",
       "      <th>Brian’s Brew</th>\n",
       "      <td>4.844444</td>\n",
       "    </tr>\n",
       "    <tr>\n",
       "      <th>Cafe Ruckus</th>\n",
       "      <td>4.426471</td>\n",
       "    </tr>\n",
       "    <tr>\n",
       "      <th>Caffe Medici</th>\n",
       "      <td>4.040000</td>\n",
       "    </tr>\n",
       "    <tr>\n",
       "      <th>Caffé Medici</th>\n",
       "      <td>4.174825</td>\n",
       "    </tr>\n",
       "    <tr>\n",
       "      <th>Café Crème</th>\n",
       "      <td>4.370000</td>\n",
       "    </tr>\n",
       "    <tr>\n",
       "      <th>Café Java</th>\n",
       "      <td>4.330000</td>\n",
       "    </tr>\n",
       "    <tr>\n",
       "      <th>Cenote</th>\n",
       "      <td>4.040000</td>\n",
       "    </tr>\n",
       "    <tr>\n",
       "      <th>Cherrywood Coffeehouse</th>\n",
       "      <td>3.960000</td>\n",
       "    </tr>\n",
       "    <tr>\n",
       "      <th>Corona Coffee</th>\n",
       "      <td>4.530000</td>\n",
       "    </tr>\n",
       "    <tr>\n",
       "      <th>Cream Whiskers</th>\n",
       "      <td>3.930000</td>\n",
       "    </tr>\n",
       "    <tr>\n",
       "      <th>Cuvée Coffee Bar</th>\n",
       "      <td>3.820000</td>\n",
       "    </tr>\n",
       "    <tr>\n",
       "      <th>Dolce Neve</th>\n",
       "      <td>4.640000</td>\n",
       "    </tr>\n",
       "    <tr>\n",
       "      <th>Dominican Joe</th>\n",
       "      <td>3.910000</td>\n",
       "    </tr>\n",
       "    <tr>\n",
       "      <th>Elixer Coffee</th>\n",
       "      <td>4.326923</td>\n",
       "    </tr>\n",
       "    <tr>\n",
       "      <th>Emerald Tavern Games &amp; Cafe</th>\n",
       "      <td>4.328947</td>\n",
       "    </tr>\n",
       "    <tr>\n",
       "      <th>Epoch Coffee</th>\n",
       "      <td>3.812500</td>\n",
       "    </tr>\n",
       "    <tr>\n",
       "      <th>Fat Cats Organic Coffee And Dessert</th>\n",
       "      <td>4.361702</td>\n",
       "    </tr>\n",
       "    <tr>\n",
       "      <th>Figure 8 Coffee Purveyors</th>\n",
       "      <td>4.500000</td>\n",
       "    </tr>\n",
       "    <tr>\n",
       "      <th>Flat Track Coffee</th>\n",
       "      <td>4.571429</td>\n",
       "    </tr>\n",
       "    <tr>\n",
       "      <th>Fleet Coffee</th>\n",
       "      <td>4.701754</td>\n",
       "    </tr>\n",
       "    <tr>\n",
       "      <th>Flightpath Coffeehouse</th>\n",
       "      <td>4.230000</td>\n",
       "    </tr>\n",
       "    <tr>\n",
       "      <th>Flitch Coffee</th>\n",
       "      <td>4.821429</td>\n",
       "    </tr>\n",
       "    <tr>\n",
       "      <th>Friends &amp; Neighbors</th>\n",
       "      <td>4.551724</td>\n",
       "    </tr>\n",
       "    <tr>\n",
       "      <th>Genuine Joe</th>\n",
       "      <td>3.950000</td>\n",
       "    </tr>\n",
       "    <tr>\n",
       "      <th>Halcyon</th>\n",
       "      <td>3.820000</td>\n",
       "    </tr>\n",
       "    <tr>\n",
       "      <th>...</th>\n",
       "      <td>...</td>\n",
       "    </tr>\n",
       "    <tr>\n",
       "      <th>My Sweet Austin</th>\n",
       "      <td>4.677419</td>\n",
       "    </tr>\n",
       "    <tr>\n",
       "      <th>Once Over Coffee Bar</th>\n",
       "      <td>3.370000</td>\n",
       "    </tr>\n",
       "    <tr>\n",
       "      <th>Pacha</th>\n",
       "      <td>3.690000</td>\n",
       "    </tr>\n",
       "    <tr>\n",
       "      <th>Patika</th>\n",
       "      <td>4.350000</td>\n",
       "    </tr>\n",
       "    <tr>\n",
       "      <th>Picnik Austin</th>\n",
       "      <td>4.150000</td>\n",
       "    </tr>\n",
       "    <tr>\n",
       "      <th>Quack’s 43rd Street Bakery</th>\n",
       "      <td>4.190000</td>\n",
       "    </tr>\n",
       "    <tr>\n",
       "      <th>Radio Coffee &amp; Beer</th>\n",
       "      <td>4.000000</td>\n",
       "    </tr>\n",
       "    <tr>\n",
       "      <th>Russell’s Bakery</th>\n",
       "      <td>3.890000</td>\n",
       "    </tr>\n",
       "    <tr>\n",
       "      <th>Sa-Ten</th>\n",
       "      <td>4.350000</td>\n",
       "    </tr>\n",
       "    <tr>\n",
       "      <th>Seventh Flag Coffee Co</th>\n",
       "      <td>4.340000</td>\n",
       "    </tr>\n",
       "    <tr>\n",
       "      <th>Sister Coffee</th>\n",
       "      <td>4.470588</td>\n",
       "    </tr>\n",
       "    <tr>\n",
       "      <th>Sorrento’s Coffee</th>\n",
       "      <td>4.260000</td>\n",
       "    </tr>\n",
       "    <tr>\n",
       "      <th>Stinson’s</th>\n",
       "      <td>3.810000</td>\n",
       "    </tr>\n",
       "    <tr>\n",
       "      <th>Strange Brew, Austin Coffee</th>\n",
       "      <td>3.600000</td>\n",
       "    </tr>\n",
       "    <tr>\n",
       "      <th>Summer Moon Coffee Bar</th>\n",
       "      <td>4.090000</td>\n",
       "    </tr>\n",
       "    <tr>\n",
       "      <th>Summermoon Coffee Bar</th>\n",
       "      <td>4.530000</td>\n",
       "    </tr>\n",
       "    <tr>\n",
       "      <th>TOMS</th>\n",
       "      <td>4.230000</td>\n",
       "    </tr>\n",
       "    <tr>\n",
       "      <th>Tea Haus</th>\n",
       "      <td>4.110000</td>\n",
       "    </tr>\n",
       "    <tr>\n",
       "      <th>Teo</th>\n",
       "      <td>3.880000</td>\n",
       "    </tr>\n",
       "    <tr>\n",
       "      <th>The Buzz Mill</th>\n",
       "      <td>4.010000</td>\n",
       "    </tr>\n",
       "    <tr>\n",
       "      <th>The Factory - Cafe With a Soul</th>\n",
       "      <td>4.360656</td>\n",
       "    </tr>\n",
       "    <tr>\n",
       "      <th>The Hideout Coffeehouse</th>\n",
       "      <td>3.910000</td>\n",
       "    </tr>\n",
       "    <tr>\n",
       "      <th>The Marvelous Vintage Tea Party Co.</th>\n",
       "      <td>5.000000</td>\n",
       "    </tr>\n",
       "    <tr>\n",
       "      <th>The Steeping Room</th>\n",
       "      <td>3.960000</td>\n",
       "    </tr>\n",
       "    <tr>\n",
       "      <th>Third Coast Coffee Roasting Company</th>\n",
       "      <td>4.821429</td>\n",
       "    </tr>\n",
       "    <tr>\n",
       "      <th>Thunderbird Coffee</th>\n",
       "      <td>3.970000</td>\n",
       "    </tr>\n",
       "    <tr>\n",
       "      <th>Trianon Coffee</th>\n",
       "      <td>4.020408</td>\n",
       "    </tr>\n",
       "    <tr>\n",
       "      <th>Tuscany At 360</th>\n",
       "      <td>3.818182</td>\n",
       "    </tr>\n",
       "    <tr>\n",
       "      <th>Venezia Italian Gelato</th>\n",
       "      <td>4.810000</td>\n",
       "    </tr>\n",
       "    <tr>\n",
       "      <th>Vintage Heart Coffee</th>\n",
       "      <td>4.170000</td>\n",
       "    </tr>\n",
       "  </tbody>\n",
       "</table>\n",
       "<p>79 rows × 1 columns</p>\n",
       "</div>"
      ],
      "text/plain": [
       "                                      star_rating\n",
       "coffee_shop_name                                 \n",
       "Alta’s Cafe                              3.930000\n",
       "Anderson’s Coffee Company                4.620000\n",
       "Apanas Coffee & Beer                     4.580882\n",
       "Arturo’s Underground Cafe                4.300000\n",
       "Bennu Coffee                             4.130000\n",
       "Brian’s Brew                             4.844444\n",
       "Cafe Ruckus                              4.426471\n",
       "Caffe Medici                             4.040000\n",
       "Caffé Medici                             4.174825\n",
       "Café Crème                               4.370000\n",
       "Café Java                                4.330000\n",
       "Cenote                                   4.040000\n",
       "Cherrywood Coffeehouse                   3.960000\n",
       "Corona Coffee                            4.530000\n",
       "Cream Whiskers                           3.930000\n",
       "Cuvée Coffee Bar                         3.820000\n",
       "Dolce Neve                               4.640000\n",
       "Dominican Joe                            3.910000\n",
       "Elixer Coffee                            4.326923\n",
       "Emerald Tavern Games & Cafe              4.328947\n",
       "Epoch Coffee                             3.812500\n",
       "Fat Cats Organic Coffee And Dessert      4.361702\n",
       "Figure 8 Coffee Purveyors                4.500000\n",
       "Flat Track Coffee                        4.571429\n",
       "Fleet Coffee                             4.701754\n",
       "Flightpath Coffeehouse                   4.230000\n",
       "Flitch Coffee                            4.821429\n",
       "Friends & Neighbors                      4.551724\n",
       "Genuine Joe                              3.950000\n",
       "Halcyon                                  3.820000\n",
       "...                                           ...\n",
       "My Sweet Austin                          4.677419\n",
       "Once Over Coffee Bar                     3.370000\n",
       "Pacha                                    3.690000\n",
       "Patika                                   4.350000\n",
       "Picnik Austin                            4.150000\n",
       "Quack’s 43rd Street Bakery               4.190000\n",
       "Radio Coffee & Beer                      4.000000\n",
       "Russell’s Bakery                         3.890000\n",
       "Sa-Ten                                   4.350000\n",
       "Seventh Flag Coffee Co                   4.340000\n",
       "Sister Coffee                            4.470588\n",
       "Sorrento’s Coffee                        4.260000\n",
       "Stinson’s                                3.810000\n",
       "Strange Brew, Austin Coffee              3.600000\n",
       "Summer Moon Coffee Bar                   4.090000\n",
       "Summermoon Coffee Bar                    4.530000\n",
       "TOMS                                     4.230000\n",
       "Tea Haus                                 4.110000\n",
       "Teo                                      3.880000\n",
       "The Buzz Mill                            4.010000\n",
       "The Factory - Cafe With a Soul           4.360656\n",
       "The Hideout Coffeehouse                  3.910000\n",
       "The Marvelous Vintage Tea Party Co.      5.000000\n",
       "The Steeping Room                        3.960000\n",
       "Third Coast Coffee Roasting Company      4.821429\n",
       "Thunderbird Coffee                       3.970000\n",
       "Trianon Coffee                           4.020408\n",
       "Tuscany At 360                           3.818182\n",
       "Venezia Italian Gelato                   4.810000\n",
       "Vintage Heart Coffee                     4.170000\n",
       "\n",
       "[79 rows x 1 columns]"
      ]
     },
     "execution_count": 106,
     "metadata": {},
     "output_type": "execute_result"
    }
   ],
   "source": [
    "shops.groupby('coffee_shop_name').mean()"
   ]
  },
  {
   "cell_type": "code",
   "execution_count": 60,
   "metadata": {},
   "outputs": [
    {
     "data": {
      "text/html": [
       "<div>\n",
       "<style scoped>\n",
       "    .dataframe tbody tr th:only-of-type {\n",
       "        vertical-align: middle;\n",
       "    }\n",
       "\n",
       "    .dataframe tbody tr th {\n",
       "        vertical-align: top;\n",
       "    }\n",
       "\n",
       "    .dataframe thead th {\n",
       "        text-align: right;\n",
       "    }\n",
       "</style>\n",
       "<table border=\"1\" class=\"dataframe\">\n",
       "  <thead>\n",
       "    <tr style=\"text-align: right;\">\n",
       "      <th></th>\n",
       "      <th>coffee_shop_name</th>\n",
       "      <th>full_review_text</th>\n",
       "      <th>star_rating</th>\n",
       "      <th>date</th>\n",
       "      <th>checkins</th>\n",
       "      <th>full_review_text_clean</th>\n",
       "      <th>tokens</th>\n",
       "    </tr>\n",
       "  </thead>\n",
       "  <tbody>\n",
       "    <tr>\n",
       "      <th>6372</th>\n",
       "      <td>Strange Brew, Austin Coffee</td>\n",
       "      <td>1 check-in With great coffee drinks, google ...</td>\n",
       "      <td>4.0</td>\n",
       "      <td>2016-09-30</td>\n",
       "      <td>1 check-in</td>\n",
       "      <td>With great coffee drinks google fiber inter...</td>\n",
       "      <td>[great, drinks, google, fiber, internet, plent...</td>\n",
       "    </tr>\n",
       "    <tr>\n",
       "      <th>6373</th>\n",
       "      <td>Strange Brew, Austin Coffee</td>\n",
       "      <td>I've been here twice to work.  The coffee is...</td>\n",
       "      <td>2.0</td>\n",
       "      <td>2016-10-09</td>\n",
       "      <td>0</td>\n",
       "      <td>Ive been here twice to work  The coffee isnt...</td>\n",
       "      <td>[ive, twice, work, isnt, bad, plenty, parking,...</td>\n",
       "    </tr>\n",
       "    <tr>\n",
       "      <th>6374</th>\n",
       "      <td>Strange Brew, Austin Coffee</td>\n",
       "      <td>Whether you're there to study, hang out, or ...</td>\n",
       "      <td>5.0</td>\n",
       "      <td>2016-07-26</td>\n",
       "      <td>0</td>\n",
       "      <td>Whether youre there to study hang out or lis...</td>\n",
       "      <td>[youre, study, hang, listen, live, music, cove...</td>\n",
       "    </tr>\n",
       "    <tr>\n",
       "      <th>6375</th>\n",
       "      <td>Strange Brew, Austin Coffee</td>\n",
       "      <td>One of the staff scolded and embarrassed thi...</td>\n",
       "      <td>1.0</td>\n",
       "      <td>2016-11-22</td>\n",
       "      <td>0</td>\n",
       "      <td>One of the staff scolded and embarrassed thi...</td>\n",
       "      <td>[staff, scolded, embarrassed, guy, sitting, lo...</td>\n",
       "    </tr>\n",
       "    <tr>\n",
       "      <th>6376</th>\n",
       "      <td>Strange Brew, Austin Coffee</td>\n",
       "      <td>1 check-in Reviewing from the coffee house a...</td>\n",
       "      <td>2.0</td>\n",
       "      <td>2016-07-19</td>\n",
       "      <td>1 check-in</td>\n",
       "      <td>Reviewing from the coffee house aspect I ca...</td>\n",
       "      <td>[reviewing, house, aspect, came, work, dogs, g...</td>\n",
       "    </tr>\n",
       "  </tbody>\n",
       "</table>\n",
       "</div>"
      ],
      "text/plain": [
       "                  coffee_shop_name  \\\n",
       "6372  Strange Brew, Austin Coffee    \n",
       "6373  Strange Brew, Austin Coffee    \n",
       "6374  Strange Brew, Austin Coffee    \n",
       "6375  Strange Brew, Austin Coffee    \n",
       "6376  Strange Brew, Austin Coffee    \n",
       "\n",
       "                                       full_review_text  star_rating  \\\n",
       "6372    1 check-in With great coffee drinks, google ...          4.0   \n",
       "6373    I've been here twice to work.  The coffee is...          2.0   \n",
       "6374    Whether you're there to study, hang out, or ...          5.0   \n",
       "6375    One of the staff scolded and embarrassed thi...          1.0   \n",
       "6376    1 check-in Reviewing from the coffee house a...          2.0   \n",
       "\n",
       "           date    checkins  \\\n",
       "6372 2016-09-30  1 check-in   \n",
       "6373 2016-10-09           0   \n",
       "6374 2016-07-26           0   \n",
       "6375 2016-11-22           0   \n",
       "6376 2016-07-19  1 check-in   \n",
       "\n",
       "                                 full_review_text_clean  \\\n",
       "6372     With great coffee drinks google fiber inter...   \n",
       "6373    Ive been here twice to work  The coffee isnt...   \n",
       "6374    Whether youre there to study hang out or lis...   \n",
       "6375    One of the staff scolded and embarrassed thi...   \n",
       "6376     Reviewing from the coffee house aspect I ca...   \n",
       "\n",
       "                                                 tokens  \n",
       "6372  [great, drinks, google, fiber, internet, plent...  \n",
       "6373  [ive, twice, work, isnt, bad, plenty, parking,...  \n",
       "6374  [youre, study, hang, listen, live, music, cove...  \n",
       "6375  [staff, scolded, embarrassed, guy, sitting, lo...  \n",
       "6376  [reviewing, house, aspect, came, work, dogs, g...  "
      ]
     },
     "execution_count": 60,
     "metadata": {},
     "output_type": "execute_result"
    }
   ],
   "source": [
    "df = shops.query(\"coffee_shop_name == 'Strange Brew, Austin Coffee '\")\n",
    "df.head()"
   ]
  },
  {
   "cell_type": "code",
   "execution_count": 15,
   "metadata": {},
   "outputs": [],
   "source": [
    "def count(docs):\n",
    "    word_counts = Counter()\n",
    "    appears_in = Counter()\n",
    "\n",
    "    total_docs = len(docs)\n",
    "\n",
    "    for doc in docs:\n",
    "        word_counts.update(doc)\n",
    "        appears_in.update(set(doc))\n",
    "\n",
    "\n",
    "    temp = zip(word_counts.keys(), word_counts.values())\n",
    "\n",
    "    wc = pd.DataFrame(temp, columns = ['word', 'count'])\n",
    "\n",
    "\n",
    "    wc['rank'] = wc['count'].rank(method='first', ascending=False)\n",
    "    total = wc['count'].sum()\n",
    "\n",
    "    wc['pct_total'] = wc['count'].apply(lambda x: x / total)\n",
    "\n",
    "    wc = wc.sort_values(by='rank')\n",
    "    wc['cul_pct_total'] = wc['pct_total'].cumsum()\n",
    "\n",
    "    t2 = zip(appears_in.keys(), appears_in.values())\n",
    "    ac = pd.DataFrame(t2, columns=['word', 'appears_in'])\n",
    "    wc = ac.merge(wc, on='word')\n",
    "\n",
    "    wc['appears_in_pct'] = wc['appears_in'].apply(lambda x: x / total_docs)\n",
    "\n",
    "    return wc\n",
    "    \n",
    "wc = count(df['tokens'])"
   ]
  },
  {
   "cell_type": "code",
   "execution_count": 16,
   "metadata": {},
   "outputs": [],
   "source": [
    "wc = wc[(wc['appears_in_pct'] >= 0.025) & (wc['appears_in_pct'] <= 0.9)]"
   ]
  },
  {
   "cell_type": "code",
   "execution_count": 17,
   "metadata": {},
   "outputs": [
    {
     "name": "stderr",
     "output_type": "stream",
     "text": [
      "C:\\Users\\John\\Anaconda3\\envs\\DS-U4-S1\\lib\\site-packages\\scipy\\stats\\stats.py:1713: FutureWarning: Using a non-tuple sequence for multidimensional indexing is deprecated; use `arr[tuple(seq)]` instead of `arr[seq]`. In the future this will be interpreted as an array index, `arr[np.array(seq)]`, which will result either in an error or a different result.\n",
      "  return np.add.reduce(sorted[indexer] * weights, axis=axis) / sumval\n"
     ]
    },
    {
     "data": {
      "text/plain": [
       "<matplotlib.axes._subplots.AxesSubplot at 0x1cf44b69f28>"
      ]
     },
     "execution_count": 17,
     "metadata": {},
     "output_type": "execute_result"
    },
    {
     "data": {
      "image/png": "[encoded data removed]",
      "text/plain": [
       "<Figure size 432x288 with 1 Axes>"
      ]
     },
     "metadata": {
      "needs_background": "light"
     },
     "output_type": "display_data"
    }
   ],
   "source": [
    "sns.distplot(wc['appears_in_pct'])"
   ]
  },
  {
   "cell_type": "code",
   "execution_count": 18,
   "metadata": {},
   "outputs": [
    {
     "data": {
      "text/html": [
       "<div>\n",
       "<style scoped>\n",
       "    .dataframe tbody tr th:only-of-type {\n",
       "        vertical-align: middle;\n",
       "    }\n",
       "\n",
       "    .dataframe tbody tr th {\n",
       "        vertical-align: top;\n",
       "    }\n",
       "\n",
       "    .dataframe thead th {\n",
       "        text-align: right;\n",
       "    }\n",
       "</style>\n",
       "<table border=\"1\" class=\"dataframe\">\n",
       "  <thead>\n",
       "    <tr style=\"text-align: right;\">\n",
       "      <th></th>\n",
       "      <th>word</th>\n",
       "      <th>appears_in</th>\n",
       "      <th>count</th>\n",
       "      <th>rank</th>\n",
       "      <th>pct_total</th>\n",
       "      <th>cul_pct_total</th>\n",
       "      <th>appears_in_pct</th>\n",
       "    </tr>\n",
       "  </thead>\n",
       "  <tbody>\n",
       "    <tr>\n",
       "      <th>0</th>\n",
       "      <td>need</td>\n",
       "      <td>11</td>\n",
       "      <td>12</td>\n",
       "      <td>60.0</td>\n",
       "      <td>0.002238</td>\n",
       "      <td>0.295599</td>\n",
       "      <td>0.11</td>\n",
       "    </tr>\n",
       "    <tr>\n",
       "      <th>1</th>\n",
       "      <td>receipt</td>\n",
       "      <td>4</td>\n",
       "      <td>5</td>\n",
       "      <td>196.0</td>\n",
       "      <td>0.000932</td>\n",
       "      <td>0.491981</td>\n",
       "      <td>0.04</td>\n",
       "    </tr>\n",
       "    <tr>\n",
       "      <th>2</th>\n",
       "      <td>drinks</td>\n",
       "      <td>15</td>\n",
       "      <td>20</td>\n",
       "      <td>34.0</td>\n",
       "      <td>0.003730</td>\n",
       "      <td>0.221186</td>\n",
       "      <td>0.15</td>\n",
       "    </tr>\n",
       "    <tr>\n",
       "      <th>3</th>\n",
       "      <td>open</td>\n",
       "      <td>19</td>\n",
       "      <td>26</td>\n",
       "      <td>22.0</td>\n",
       "      <td>0.004849</td>\n",
       "      <td>0.169340</td>\n",
       "      <td>0.19</td>\n",
       "    </tr>\n",
       "    <tr>\n",
       "      <th>4</th>\n",
       "      <td>great</td>\n",
       "      <td>36</td>\n",
       "      <td>51</td>\n",
       "      <td>6.0</td>\n",
       "      <td>0.009511</td>\n",
       "      <td>0.071429</td>\n",
       "      <td>0.36</td>\n",
       "    </tr>\n",
       "  </tbody>\n",
       "</table>\n",
       "</div>"
      ],
      "text/plain": [
       "      word  appears_in  count   rank  pct_total  cul_pct_total  appears_in_pct\n",
       "0     need          11     12   60.0   0.002238       0.295599            0.11\n",
       "1  receipt           4      5  196.0   0.000932       0.491981            0.04\n",
       "2   drinks          15     20   34.0   0.003730       0.221186            0.15\n",
       "3     open          19     26   22.0   0.004849       0.169340            0.19\n",
       "4    great          36     51    6.0   0.009511       0.071429            0.36"
      ]
     },
     "execution_count": 18,
     "metadata": {},
     "output_type": "execute_result"
    }
   ],
   "source": [
    "wc.head()"
   ]
  },
  {
   "cell_type": "markdown",
   "metadata": {},
   "source": [
    "## How do we want to analyze these coffee shop tokens? \n",
    "\n",
    "- Overall Word / Token Count\n",
    "- View Counts by Rating \n",
    "- *Hint:* a 'bad' coffee shops has a rating betweeen 1 & 3 based on the distribution of ratings. A 'good' coffee shop is a 4 or 5. "
   ]
  },
  {
   "cell_type": "code",
   "execution_count": 21,
   "metadata": {},
   "outputs": [
    {
     "data": {
      "text/plain": [
       "<matplotlib.axes._subplots.AxesSubplot at 0x1cf3f97ff60>"
      ]
     },
     "execution_count": 21,
     "metadata": {},
     "output_type": "execute_result"
    },
    {
     "data": {
      "image/png": "[encoded data removed]",
      "text/plain": [
       "<Figure size 432x288 with 1 Axes>"
      ]
     },
     "metadata": {
      "needs_background": "light"
     },
     "output_type": "display_data"
    }
   ],
   "source": [
    "df['star_rating'].plot(kind='hist')"
   ]
  },
  {
   "cell_type": "code",
   "execution_count": null,
   "metadata": {},
   "outputs": [],
   "source": []
  },
  {
   "cell_type": "markdown",
   "metadata": {},
   "source": [
    "## Can visualize the words with the greatest difference in counts between 'good' & 'bad'?\n",
    "\n",
    "Couple Notes: \n",
    "- Rel. freq. instead of absolute counts b/c of different numbers of reviews\n",
    "- Only look at the top 5-10 words with the greatest differences\n"
   ]
  },
  {
   "cell_type": "code",
   "execution_count": 26,
   "metadata": {},
   "outputs": [],
   "source": [
    "good = df[df['star_rating'] >= 4]\n",
    "bad = df[df['star_rating'] < 2]\n",
    "\n",
    "good_wc = count(good['tokens'])\n",
    "bad_wc = count(bad['tokens'])"
   ]
  },
  {
   "cell_type": "code",
   "execution_count": 24,
   "metadata": {},
   "outputs": [
    {
     "data": {
      "image/png": "[encoded data removed]",
      "text/plain": [
       "<Figure size 432x288 with 1 Axes>"
      ]
     },
     "metadata": {
      "needs_background": "light"
     },
     "output_type": "display_data"
    }
   ],
   "source": [
    "import squarify\n",
    "import matplotlib.pyplot as plt\n",
    "good_wc_top20 = good_wc[good_wc['rank'] <= 20]\n",
    "\n",
    "squarify.plot(sizes=good_wc_top20['pct_total'], label=good_wc_top20['word'], alpha=.8 )\n",
    "plt.axis('off')\n",
    "plt.show()"
   ]
  },
  {
   "cell_type": "code",
   "execution_count": 27,
   "metadata": {},
   "outputs": [
    {
     "data": {
      "image/png": "[encoded data removed]",
      "text/plain": [
       "<Figure size 432x288 with 1 Axes>"
      ]
     },
     "metadata": {
      "needs_background": "light"
     },
     "output_type": "display_data"
    }
   ],
   "source": [
    "bad_wc_top20 = bad_wc[bad_wc['rank'] <= 20]\n",
    "\n",
    "squarify.plot(sizes=bad_wc_top20['pct_total'], label=bad_wc_top20['word'], alpha=.8 )\n",
    "plt.axis('off')\n",
    "plt.show()"
   ]
  },
  {
   "cell_type": "code",
   "execution_count": 62,
   "metadata": {},
   "outputs": [],
   "source": [
    "good = shops[shops['star_rating'] >= 4]\n",
    "bad = shops[shops['star_rating'] < 2]\n",
    "\n",
    "good_wc = count(good['tokens'])\n",
    "bad_wc = count(bad['tokens'])"
   ]
  },
  {
   "cell_type": "code",
   "execution_count": 63,
   "metadata": {},
   "outputs": [
    {
     "data": {
      "image/png": "[encoded data removed]",
      "text/plain": [
       "<Figure size 432x288 with 1 Axes>"
      ]
     },
     "metadata": {
      "needs_background": "light"
     },
     "output_type": "display_data"
    }
   ],
   "source": [
    "good_wc_top20 = good_wc[good_wc['rank'] <= 20]\n",
    "\n",
    "squarify.plot(sizes=good_wc_top20['pct_total'], label=good_wc_top20['word'], alpha=.8 )\n",
    "plt.axis('off')\n",
    "plt.show()"
   ]
  },
  {
   "cell_type": "code",
   "execution_count": 64,
   "metadata": {},
   "outputs": [
    {
     "data": {
      "image/png": "[encoded data removed]",
      "text/plain": [
       "<Figure size 432x288 with 1 Axes>"
      ]
     },
     "metadata": {
      "needs_background": "light"
     },
     "output_type": "display_data"
    }
   ],
   "source": [
    "bad_wc_top20 = bad_wc[bad_wc['rank'] <= 20]\n",
    "\n",
    "squarify.plot(sizes=bad_wc_top20['pct_total'], label=bad_wc_top20['word'], alpha=.8 )\n",
    "plt.axis('off')\n",
    "plt.show()"
   ]
  },
  {
   "cell_type": "code",
   "execution_count": 61,
   "metadata": {},
   "outputs": [
    {
     "name": "stdout",
     "output_type": "stream",
     "text": [
      "  The owner or the guy who counts the tilt is a jerk.  The jerk slams his fist on the table and say\"hey buddy you can't sleep here\". Okay my bad. Turns out I asked the guys behind the counter what the big deal was with my eyes closed for a minute. Turns out this elite owner group comes in here often to harass people and little kids. The barista was telling me a kid bought a snow cone across the street, came in with his mom to get her coffee, and these social elite egos kicked the kid out for having a snow cone with him. Oh an the owner of the snow cone place is the one who made the big fuss plus it turns out he was once a part owner in this coffee spot. I guess it's called Strange Brew because of the strange people who own it.  1.0\n",
      "  44 check-ins My wife and I love coming here! I love the regular cold brew and my wife loves the frozen mocha with coffee. The pastries here are awesome! I just wished they would have fried pickles LOL oh and the snow cone trailer outside is awesome too!!  5.0\n"
     ]
    }
   ],
   "source": [
    "weird_words = ['snow']\n",
    "\n",
    "for index,text in df['tokens'].iteritems():\n",
    "    if 'snow' in text:\n",
    "        print(df['full_review_text'].loc[index], df['star_rating'].loc[index])"
   ]
  },
  {
   "cell_type": "code",
   "execution_count": 53,
   "metadata": {},
   "outputs": [
    {
     "data": {
      "text/plain": [
       "coffee_shop_name                         Strange Brew, Austin Coffee \n",
       "full_review_text       With great coffee drinks google fiber inter...\n",
       "star_rating                                                         4\n",
       "date                                              2016-09-30 00:00:00\n",
       "checkins                                                   1 check-in\n",
       "tokens              [great, drinks, google, fiber, internet, plent...\n",
       "Name: 6372, dtype: object"
      ]
     },
     "execution_count": 53,
     "metadata": {},
     "output_type": "execute_result"
    }
   ],
   "source": [
    "df.loc[6372]"
   ]
  },
  {
   "cell_type": "markdown",
   "metadata": {
    "colab_type": "text",
    "id": "1dCb1q8XphcP",
    "toc-hr-collapsed": true
   },
   "source": [
    "## Stretch Goals\n",
    "\n",
    "* Analyze another corpus of documents - such as Indeed.com job listings ;).\n",
    "* Play the the Spacy API to\n",
    " - Extract Named Entities\n",
    " - Extracting 'noun chunks'\n",
    " - Attempt Document Classification with just Spacy\n",
    " - *Note:* This [course](https://course.spacy.io/) will be of interesting in helping you with these stretch goals. \n",
    "* Try to build a plotly dash app with your text data \n",
    "\n"
   ]
  }
 ],
 "metadata": {
  "colab": {
   "collapsed_sections": [],
   "name": "LS_DS_421_Text_Data_Assignment.ipynb",
   "provenance": [],
   "version": "0.3.2"
  },
  "kernelspec": {
   "display_name": "U4-S1-NLP-DS6 (Python3)",
   "language": "python",
   "name": "u4-s1-nlp-ds6"
  },
  "language_info": {
   "codemirror_mode": {
    "name": "ipython",
    "version": 3
   },
   "file_extension": ".py",
   "mimetype": "text/x-python",
   "name": "python",
   "nbconvert_exporter": "python",
   "pygments_lexer": "ipython3",
   "version": "3.7.3"
  },
  "toc-autonumbering": false
 },
 "nbformat": 4,
 "nbformat_minor": 4
}
